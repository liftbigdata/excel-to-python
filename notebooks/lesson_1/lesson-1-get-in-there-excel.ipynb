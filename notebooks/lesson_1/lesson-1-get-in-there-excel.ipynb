{
 "cells": [
  {
   "cell_type": "code",
   "execution_count": null,
   "metadata": {},
   "outputs": [],
   "source": [
    "import pandas as pd\n",
    "import glob"
   ]
  },
  {
   "cell_type": "markdown",
   "metadata": {},
   "source": [
    "# Load CSV\n",
    "\n",
    "We'll start our journey by loading CSV (Comma Separated Values) Files. \n",
    "\n",
    "These might look like this:\n",
    "```\n",
    "Title, Date, Sales\n",
    "The Matrix, 2020-01-04, 44553\n",
    "Contagion, 2020-04-14, 120000\n",
    "Idiocracy, 2016-11-06, 303421\n",
    "```\n"
   ]
  },
  {
   "cell_type": "markdown",
   "metadata": {},
   "source": [
    "### Headers\n",
    "\n",
    "CSV Files sometimes include headers or column names to make it easier to understand what data you're looking at.\n",
    "\n",
    "We'll get started by reading Street Sweeping Route data from the City of Los Angeles.\n",
    "\n",
    "https://data.lacity.org/A-Livable-and-Sustainable-City/Posted-Street-Sweeping-Routes/krk7-ayq2"
   ]
  },
  {
   "cell_type": "code",
   "execution_count": null,
   "metadata": {},
   "outputs": [],
   "source": [
    "street_df = pd.read_csv('street_sweeping.csv')\n",
    "street_df"
   ]
  },
  {
   "cell_type": "code",
   "execution_count": null,
   "metadata": {},
   "outputs": [],
   "source": [
    "street_df.describe()"
   ]
  },
  {
   "cell_type": "code",
   "execution_count": null,
   "metadata": {},
   "outputs": [],
   "source": [
    "street_df.columns"
   ]
  },
  {
   "cell_type": "code",
   "execution_count": null,
   "metadata": {},
   "outputs": [],
   "source": [
    "street_df.loc[0:4,['Route No', 'Boundaries']]"
   ]
  },
  {
   "cell_type": "markdown",
   "metadata": {},
   "source": [
    "### No Headers\n",
    "Now let's assume we received a file without a header.\n",
    "\n",
    "For this we'll use an altered version of the Los Angeles Animal Services Intake data file.\n",
    "\n",
    "https://data.lacity.org/A-Well-Run-City/Animal-Services-Intake-Data/8cmr-fbcu"
   ]
  },
  {
   "cell_type": "code",
   "execution_count": null,
   "metadata": {},
   "outputs": [],
   "source": [
    "animal_serv_df = pd.read_csv('animal_services.csv')"
   ]
  },
  {
   "cell_type": "code",
   "execution_count": null,
   "metadata": {},
   "outputs": [],
   "source": [
    "animal_serv_df.head()"
   ]
  },
  {
   "cell_type": "markdown",
   "metadata": {},
   "source": [
    "Well, that didn't go as we planned. We need to tell python that we don't have a header and set the column names ourselves."
   ]
  },
  {
   "cell_type": "code",
   "execution_count": null,
   "metadata": {},
   "outputs": [],
   "source": [
    "col_names = ['Shelter',\n",
    "             'Animal ID#',\n",
    "             'Intake Date',\n",
    "             'Intake Type',\n",
    "             'Intake Condition',\n",
    "             'Animal Type',\n",
    "             'Group',\n",
    "             'Breed 1',\n",
    "             'Breed 2']\n",
    "\n",
    "animal_serv_df = pd.read_csv('animal_services.csv', \n",
    "                             header = None, \n",
    "                             names = col_names)"
   ]
  },
  {
   "cell_type": "code",
   "execution_count": null,
   "metadata": {},
   "outputs": [],
   "source": [
    "animal_serv_df.head()"
   ]
  },
  {
   "cell_type": "markdown",
   "metadata": {},
   "source": [
    "#### Changing Column Names\n",
    "We can also change column names after reading in a csv."
   ]
  },
  {
   "cell_type": "code",
   "execution_count": null,
   "metadata": {},
   "outputs": [],
   "source": [
    "new_col_names = ['shelter_area',\n",
    "                 'animal_id',\n",
    "                 'intake_date',\n",
    "                 'intake_type',\n",
    "                 'intake_condition',\n",
    "                 'animal_type',\n",
    "                 'animal_group',\n",
    "                 'breed_info',\n",
    "                 'breed_info_aux']\n",
    "\n",
    "animal_serv_df.columns = new_col_names\n",
    "\n",
    "animal_serv_df.head()"
   ]
  },
  {
   "cell_type": "markdown",
   "metadata": {},
   "source": [
    "### Non-Comma Separated\n",
    "\n",
    "Even though they are called 'Comma Separated', the fields may be separated by other values as well. \n",
    "\n",
    "Now let's read a csv that doesn't commas. We'll first attempt to read it without changing anything and see what happens. "
   ]
  },
  {
   "cell_type": "code",
   "execution_count": null,
   "metadata": {},
   "outputs": [],
   "source": [
    "parking_df = pd.read_csv('parking_meter.csv')\n",
    "parking_df.head()"
   ]
  },
  {
   "cell_type": "markdown",
   "metadata": {},
   "source": [
    "As you can see, python doesn't know how to split up the data into columns. It just assumed that each line was a column by itself. \n",
    "Let's try again by specifying a *delimiter*."
   ]
  },
  {
   "cell_type": "code",
   "execution_count": null,
   "metadata": {},
   "outputs": [],
   "source": [
    "parking_df = pd.read_csv('parking_meter.csv', \n",
    "                         sep = '|')\n",
    "parking_df.head()"
   ]
  },
  {
   "cell_type": "markdown",
   "metadata": {},
   "source": [
    "### Handling Blanks"
   ]
  },
  {
   "cell_type": "code",
   "execution_count": null,
   "metadata": {},
   "outputs": [],
   "source": [
    "parking_missing_df = pd.read_csv('parking_meter_missing.csv', \n",
    "                                 sep = '|')\n",
    "parking_missing_df"
   ]
  },
  {
   "cell_type": "markdown",
   "metadata": {},
   "source": [
    "### Marking Data as Na/Nan\n",
    "\n",
    "Let's mark the 'UNKNOWN' values as NaN."
   ]
  },
  {
   "cell_type": "code",
   "execution_count": null,
   "metadata": {},
   "outputs": [],
   "source": [
    "parking_missing_df = pd.read_csv('parking_meter_missing.csv', \n",
    "                                 delimiter = '|', \n",
    "                                 na_values = 'UNKNOWN')\n",
    "parking_missing_df.head()"
   ]
  },
  {
   "cell_type": "markdown",
   "metadata": {},
   "source": [
    "# Load Excel\n",
    "\n",
    "We can load Excel files in the same way. Excel workbooks can have multiple sheets, which we will have to deal with."
   ]
  },
  {
   "cell_type": "markdown",
   "metadata": {},
   "source": [
    "### Single Sheet\n",
    "We'll start by reading an excel workbook with a single sheet."
   ]
  },
  {
   "cell_type": "code",
   "execution_count": null,
   "metadata": {},
   "outputs": [],
   "source": [
    "lax_parking_df = pd.read_excel('lax_parking.xlsx')\n",
    "lax_parking_df.head(3)"
   ]
  },
  {
   "cell_type": "markdown",
   "metadata": {},
   "source": [
    "### Multisheet Workbook\n",
    "\n",
    "Now we'll work with a workbook with multiple sheets."
   ]
  },
  {
   "cell_type": "markdown",
   "metadata": {},
   "source": [
    "Let's see what sheets are in this workbook."
   ]
  },
  {
   "cell_type": "code",
   "execution_count": null,
   "metadata": {},
   "outputs": [],
   "source": [
    "xlsx = pd.ExcelFile('events_and_streets.xlsx')\n",
    "print(xlsx.sheet_names)"
   ]
  },
  {
   "cell_type": "markdown",
   "metadata": {},
   "source": [
    "#### Load a Single Sheet\n",
    "First we'll read in a single sheet.\n",
    "\n"
   ]
  },
  {
   "cell_type": "code",
   "execution_count": null,
   "metadata": {},
   "outputs": [],
   "source": [
    "city_events_df = pd.read_excel(xlsx, sheet_name = 'city_events')\n",
    "city_events_df.head(3)"
   ]
  },
  {
   "cell_type": "markdown",
   "metadata": {},
   "source": [
    "#### Load All Sheets - into separate dataframe in a dictionary"
   ]
  },
  {
   "cell_type": "code",
   "execution_count": null,
   "metadata": {},
   "outputs": [],
   "source": [
    "data = {}\n",
    "with pd.ExcelFile('events_and_streets.xlsx') as xl:\n",
    "    for sheet in xl.sheet_names:\n",
    "        data[sheet] = pd.read_excel(xl, sheet_name = sheet)\n",
    "        \n",
    "data.keys()"
   ]
  },
  {
   "cell_type": "code",
   "execution_count": null,
   "metadata": {},
   "outputs": [],
   "source": [
    "data['street_names'].head()"
   ]
  },
  {
   "cell_type": "markdown",
   "metadata": {},
   "source": [
    "#### Load all sheets into the same dataframe\n",
    "\n",
    "*You are given the annual data for Hexacorp with each quarter in a separate sheet. All columns are the same, you want to load them all into the same dataframe. You also want to add a new field called 'quarter'. (Luckily for us, the sheetnames are the quarter)*"
   ]
  },
  {
   "cell_type": "code",
   "execution_count": null,
   "metadata": {},
   "outputs": [],
   "source": [
    "data = {}\n",
    "with pd.ExcelFile('hexacorp_2019.xlsx') as xl:\n",
    "    for sheet in xl.sheet_names:\n",
    "        data[sheet] = pd.read_excel(xl, sheet_name = sheet)\n",
    "        data[sheet]['quarter'] = sheet\n",
    "\n",
    "hex_2019_df = pd.concat(data)\n",
    "hex_2019_df.shape"
   ]
  },
  {
   "cell_type": "code",
   "execution_count": null,
   "metadata": {},
   "outputs": [],
   "source": [
    "hex_2019_df.head()"
   ]
  },
  {
   "cell_type": "code",
   "execution_count": null,
   "metadata": {},
   "outputs": [],
   "source": [
    "hex_2019_df.tail()"
   ]
  },
  {
   "cell_type": "markdown",
   "metadata": {},
   "source": [
    "### Load All the Things\n",
    "\n",
    "Now we'll load all excel sheets in a given folder."
   ]
  },
  {
   "cell_type": "code",
   "execution_count": null,
   "metadata": {},
   "outputs": [],
   "source": [
    "all_data = {}\n",
    "\n",
    "for file in glob.glob(\"hexacorp*.xlsx\"):\n",
    "    print('Reading file: {file}'.format(file = file))\n",
    "    with pd.ExcelFile(file) as xl:\n",
    "        for sheet in xl.sheet_names:\n",
    "            all_data[file+sheet] = pd.read_excel(xl, sheet_name = sheet)\n",
    "            all_data[file+sheet]['source_file'] = file\n",
    "            all_data[file+sheet]['quarter'] = sheet\n",
    "\n",
    "hex_all_df = pd.concat(all_data, ignore_index=True)\n",
    "hex_all_df.shape"
   ]
  },
  {
   "cell_type": "code",
   "execution_count": null,
   "metadata": {},
   "outputs": [],
   "source": [
    "hex_all_df.head()"
   ]
  },
  {
   "cell_type": "code",
   "execution_count": null,
   "metadata": {},
   "outputs": [],
   "source": [
    "hex_all_df.tail()"
   ]
  },
  {
   "cell_type": "code",
   "execution_count": null,
   "metadata": {},
   "outputs": [],
   "source": []
  }
 ],
 "metadata": {
  "kernelspec": {
   "display_name": "Python 3",
   "language": "python",
   "name": "python3"
  },
  "language_info": {
   "codemirror_mode": {
    "name": "ipython",
    "version": 3
   },
   "file_extension": ".py",
   "mimetype": "text/x-python",
   "name": "python",
   "nbconvert_exporter": "python",
   "pygments_lexer": "ipython3",
   "version": "3.8.3"
  }
 },
 "nbformat": 4,
 "nbformat_minor": 4
}
